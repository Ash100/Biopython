{
 "cells": [
  {
   "cell_type": "markdown",
   "id": "2d1a9ad3",
   "metadata": {},
   "source": [
    "# Protein Visualization with BioPython (NGL Viewer)\n",
    "\n",
    "*Prepared by* **Dr. Ashfaq Ahmad**\n",
    "\n",
    "Welcome to this comprehensive Jupyter notebook tailored for teaching purposes by *Dr. Ashfaq Ahmad*. This notebook is designed to empower you with the skills needed for Protein Visualization and Image Export—a vital aspect of structural biology and molecular research.\n",
    "\n",
    "In the world of structural biology, the visualization of proteins and molecules is crucial for gaining insights into their structures and functions. There are several standalone packages available, such as PyMol, Discovery Visualizer, VMD, Rasmol, and more. However, using them often requires downloading and installing additional software, which can be a cumbersome process.\n",
    "\n",
    "**The Beauty of This Notebook**: It offers you a hassle-free, all-in-one solution! You won't need to spend time downloading and configuring external software. Instead, you can dive right into your protein visualization and image export tasks with ease.\n",
    "\n",
    "**Your Kick Start**: This notebook serves as your launching pad for your protein-related projects. Whether you're a student, researcher, or enthusiast, you'll find valuable tools and techniques here to accelerate your work.\n",
    "\n",
    "**No Time to Waste**: Let's get started! Connect to this notebook, and embark on your journey into the fascinating world of protein visualization and image export. Your discoveries await!\n",
    "\n",
    "**To learn much more fasinating stuffs I share, please subscribe my youtube channel. https://www.youtube.com/@Bioinformaticsinsights\n"
   ]
  },
  {
   "cell_type": "markdown",
   "id": "baa4fe41",
   "metadata": {},
   "source": [
    "## Step 1 - Installation of the required packages\n",
    "Below, we are going to install;\n",
    "i. Biopython\n",
    "ii. NGLview, version 3.0.8\n",
    "iii. ipywidgets greater that version 7 and lower than version 8."
   ]
  },
  {
   "cell_type": "code",
   "execution_count": null,
   "id": "4dc48650",
   "metadata": {},
   "outputs": [],
   "source": [
    "!pip install Bio"
   ]
  },
  {
   "cell_type": "code",
   "execution_count": null,
   "id": "2df34446",
   "metadata": {},
   "outputs": [],
   "source": [
    "!pip install nglview==3.0.8"
   ]
  },
  {
   "cell_type": "code",
   "execution_count": null,
   "id": "bf0c42b4",
   "metadata": {},
   "outputs": [],
   "source": [
    "!pip install \"ipywidgets>=7,<8\""
   ]
  },
  {
   "cell_type": "code",
   "execution_count": null,
   "id": "9fc76238",
   "metadata": {},
   "outputs": [],
   "source": [
    "!jupyter-nbextension enable nglview --py --sys-prefix"
   ]
  },
  {
   "cell_type": "code",
   "execution_count": null,
   "id": "5cef3984",
   "metadata": {},
   "outputs": [],
   "source": [
    "from google.colab import output\n",
    "output.enable_custom_widget_manager()"
   ]
  },
  {
   "cell_type": "markdown",
   "id": "314d4b64",
   "metadata": {},
   "source": [
    "Now, our installation is complete. Its time to import some objects from the these installed libraries to the workspace."
   ]
  },
  {
   "cell_type": "code",
   "execution_count": null,
   "id": "fb8918b9",
   "metadata": {},
   "outputs": [],
   "source": [
    "import ipywidgets as widgets\n",
    "from IPython.display import display\n",
    "import os\n",
    "import sys\n",
    "from urllib.request import urlretrieve\n",
    "import Bio\n",
    "from Bio import PDB\n",
    "from Bio import SeqIO, SearchIO, Entrez\n",
    "from Bio.Seq import Seq\n",
    "import pylab\n",
    "import urllib\n",
    "import pandas as pd\n",
    "import nglview as nv\n",
    "from collections import Counter\n",
    "from Bio.PDB import PDBParser,MMCIFParser"
   ]
  },
  {
   "cell_type": "markdown",
   "id": "d691cb74",
   "metadata": {},
   "source": [
    "Now, we are all set. Its time to fitch our structure from the PDB (www.rcsb.org). To perform this task we will utilize the urllib function from Biopython."
   ]
  },
  {
   "cell_type": "code",
   "execution_count": null,
   "id": "c88e5064",
   "metadata": {},
   "outputs": [],
   "source": [
    "urllib.request.urlretrieve('https://files.rcsb.org/download/4I5S.pdb','4I5S.pdb')"
   ]
  },
  {
   "cell_type": "code",
   "execution_count": null,
   "id": "e620c92e",
   "metadata": {},
   "outputs": [],
   "source": [
    "structure = PDB.PDBParser().get_structure(\"4I5S\", \"4I5S.pdb\")"
   ]
  },
  {
   "cell_type": "code",
   "execution_count": null,
   "id": "a31ec531",
   "metadata": {},
   "outputs": [],
   "source": [
    "for chain in structure[0]:\n",
    "    print(f\"chain ID:{chain.id}\")"
   ]
  },
  {
   "cell_type": "code",
   "execution_count": null,
   "id": "adad8aa8",
   "metadata": {},
   "outputs": [],
   "source": [
    "view = nv.show_biopython(structure)"
   ]
  },
  {
   "cell_type": "code",
   "execution_count": null,
   "id": "5246a8f9",
   "metadata": {},
   "outputs": [],
   "source": [
    "view"
   ]
  },
  {
   "cell_type": "code",
   "execution_count": null,
   "id": "196578e7",
   "metadata": {},
   "outputs": [],
   "source": [
    "nv.show_biopython(structure, gui=True)"
   ]
  },
  {
   "cell_type": "markdown",
   "id": "e6724f1e",
   "metadata": {},
   "source": [
    "NGLviewer is a third party widget, therefore at times you may get an error to enable. Though I have already included the script\n",
    "for enabling nglview. If the above cell did not run successfully, you can initiate using the following command, and open your \n",
    "structure there. "
   ]
  },
  {
   "cell_type": "code",
   "execution_count": null,
   "id": "8a91f46f",
   "metadata": {},
   "outputs": [],
   "source": [
    "view.gui_style = 'ngl'\n",
    "view"
   ]
  },
  {
   "cell_type": "markdown",
   "id": "de4646b7",
   "metadata": {},
   "source": [
    "Stay Connected & Tunned. I will keep Teaching you Molecular Docking, Simulation, Structure Prediction, Machine Learning using such kinds of Notebooks. During these sessions, you will also learn some python programing. "
   ]
  }
 ],
 "metadata": {
  "kernelspec": {
   "display_name": "Python 3 (ipykernel)",
   "language": "python",
   "name": "python3"
  },
  "language_info": {
   "codemirror_mode": {
    "name": "ipython",
    "version": 3
   },
   "file_extension": ".py",
   "mimetype": "text/x-python",
   "name": "python",
   "nbconvert_exporter": "python",
   "pygments_lexer": "ipython3",
   "version": "3.10.9"
  }
 },
 "nbformat": 4,
 "nbformat_minor": 5
}
