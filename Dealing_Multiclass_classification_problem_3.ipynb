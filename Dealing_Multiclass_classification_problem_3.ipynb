{
  "nbformat": 4,
  "nbformat_minor": 0,
  "metadata": {
    "colab": {
      "provenance": [],
      "gpuType": "T4",
      "authorship_tag": "ABX9TyPG9VHedR3KhFNvwfEyTXsw",
      "include_colab_link": true
    },
    "kernelspec": {
      "name": "python3",
      "display_name": "Python 3"
    },
    "language_info": {
      "name": "python"
    },
    "accelerator": "GPU"
  },
  "cells": [
    {
      "cell_type": "markdown",
      "metadata": {
        "id": "view-in-github",
        "colab_type": "text"
      },
      "source": [
        "<a href=\"https://colab.research.google.com/github/Ash100/Biopython/blob/main/Dealing_Multiclass_classification_problem_3.ipynb\" target=\"_parent\"><img src=\"https://colab.research.google.com/assets/colab-badge.svg\" alt=\"Open In Colab\"/></a>"
      ]
    },
    {
      "cell_type": "markdown",
      "source": [
        "##Multiclass Classification Problem\n",
        "I am **Dr. Ashfaq Ahmad**, and this notebook is created for teaching and research purposes. Refering to the people working in the field of Biology, I have tried my level best to keep it as simple as possible. For Detailed instruction and understandings, please watch a video tutorial on **https://www.youtube.com/@Bioinformaticsinsights**\n",
        "\n",
        "This notebook is based on the book **Deep Learning with Python** by Jason Brownlee."
      ],
      "metadata": {
        "id": "Up6BF9TQD5kW"
      }
    },
    {
      "cell_type": "markdown",
      "source": [
        "##Aims and Learning Goals\n",
        "In this project tutorial you will discover the usage of Keras to develop and evaluate neural network models for multiclass classification problems. After completing this step-by-step tutorial,\n",
        "you will know:\n",
        "\n",
        "**1.How to load data from CSV and make it available to Keras.**\n",
        "\n",
        "**2.How to prepare multiclass classification data for modeling with neural networks.**\n",
        "\n",
        "**3.How to evaluate Keras neural network models with scikit-learn.**"
      ],
      "metadata": {
        "id": "n-GDEmb2EJD4"
      }
    },
    {
      "cell_type": "markdown",
      "source": [
        "In this tutorial we will use **the iris flowers dataset**. It can be downloaded from UC Irvine Machine Learning repository or Kaggle. It contains four input variables (in neumerical quantities) for\n",
        "1. Sepal length in centimeters.\n",
        "2. Sepal width in centimeters.\n",
        "3. Petal length in centimeters.\n",
        "4. Petal width in centimeters.\n",
        "5. Class.\n",
        "This is a multiclass classification problem, meaning that there are more than two classes to be predicted, in fact there are three flower species. This is an important type of problem on which to practice with neural networks because the three class value require specialized handling."
      ],
      "metadata": {
        "id": "1dWILfmSExo7"
      }
    },
    {
      "cell_type": "code",
      "source": [
        "#Install Keras and Scikit\n",
        "!pip install --upgrade keras\n",
        "!pip install --upgrade scikit_learn\n"
      ],
      "metadata": {
        "id": "26L9XdtcG0p-"
      },
      "execution_count": null,
      "outputs": []
    },
    {
      "cell_type": "code",
      "source": [
        "#Install as per your need\n",
        "!pip install scikeras[tensorflow-cpu]"
      ],
      "metadata": {
        "id": "-ZeaUtFMH6Gf"
      },
      "execution_count": null,
      "outputs": []
    },
    {
      "cell_type": "code",
      "source": [
        "#Install as per your need\n",
        "!pip install scikeras[tensorflow]      # gpu compute platform"
      ],
      "metadata": {
        "id": "B5iMF8mnIEAU"
      },
      "execution_count": null,
      "outputs": []
    },
    {
      "cell_type": "code",
      "source": [
        "import numpy\n",
        "import pandas\n",
        "from keras.models import Sequential\n",
        "from keras.layers import Dense\n",
        "from keras.wrappers.scikit_learn import KerasClassifier\n",
        "from keras.utils import np_utils\n",
        "from sklearn.model_selection import cross_val_score\n",
        "from sklearn.model_selection import KFold\n",
        "from sklearn.preprocessing import LabelEncoder\n",
        "from sklearn.pipeline import Pipeline"
      ],
      "metadata": {
        "id": "QVi6PYvxHvM6"
      },
      "execution_count": 1,
      "outputs": []
    },
    {
      "cell_type": "markdown",
      "source": [
        "Initialize seed number for reproduction"
      ],
      "metadata": {
        "id": "qO9XRHE5IuUJ"
      }
    },
    {
      "cell_type": "code",
      "source": [
        "# fix random seed for reproducibility\n",
        "seed = 7\n",
        "numpy.random.seed(seed)"
      ],
      "metadata": {
        "id": "rHbqxmM6I10X"
      },
      "execution_count": 2,
      "outputs": []
    },
    {
      "cell_type": "markdown",
      "source": [
        "Let's load the downloaded dataset"
      ],
      "metadata": {
        "id": "9xV-y2cSJprT"
      }
    },
    {
      "cell_type": "code",
      "source": [
        "# load dataset\n",
        "dataframe = pandas.read_csv(\"/content/sample_data/IRIS_1.csv\", header=None)\n",
        "dataset = dataframe.values\n",
        "X = dataset[:,0:4].astype(float)\n",
        "Y = dataset[:,4]"
      ],
      "metadata": {
        "id": "huDQaqQHJuXG"
      },
      "execution_count": 5,
      "outputs": []
    },
    {
      "cell_type": "markdown",
      "source": [
        "**Encode variables in the output**\n",
        "If you see the output column, it contains three variable;\n",
        "**1.**Iris-setosa, **2.**Iris-versicolor, and **3.**Iris-virginica.\n",
        "When modeling multiclass classification problems using neural networks, it is good practice to reshape the output attribute from a vector that contains values for each class value to be a matrix with a boolean for each class\n",
        "value and whether or not a given instance has that class value or not. This is called **one hot encoding** or **creating dummy variables** from a categorical variable.\n",
        "\n",
        "An example of the Binary Matrix\n",
        "*Iris-setosa*,  *Iris-versicolor*, *Iris-virginica*\n",
        "\n",
        "1,                0,              0\n",
        "\n",
        "0,                1,              0\n",
        "\n",
        "0,                0,              1"
      ],
      "metadata": {
        "id": "iJbaCyISLYH7"
      }
    },
    {
      "cell_type": "markdown",
      "source": [
        "We can do this by first encoding the strings consistently to integers using the scikit-learn class *LabelEncoder()*. Then convert the vector of integers to a one hot encoding using the Keras function to *categorical()*."
      ],
      "metadata": {
        "id": "P0yQ7toUOEJw"
      }
    },
    {
      "cell_type": "code",
      "source": [
        "# encode class values as integers\n",
        "encoder = LabelEncoder()\n",
        "encoder.fit(Y)\n",
        "encoded_Y = encoder.transform(Y)\n",
        "# convert integers to dummy variables (i.e. one hot encoded)\n",
        "dummy_y = np_utils.to_categorical(encoded_Y)"
      ],
      "metadata": {
        "id": "s5FDj5wmMd1I"
      },
      "execution_count": 7,
      "outputs": []
    },
    {
      "cell_type": "markdown",
      "source": [
        "###Define Model\n",
        "Below is a function that will create a baseline neural network for the iris classification problem. Things are pretty much similar like the previous lessons.\n",
        "We will create a simple fully connected network with one hidden layer that contains 4 neurons, the same number of inputs (it could be any number of neurons). The hidden layer uses a rectifier activation function (relu) which is a good practice. Because we used a one-hot encoding for\n",
        "our iris dataset, the output layer must create 3 output values, one for each class. The output\n",
        "value with the largest value will be taken as the class predicted by the model.\n",
        "\n",
        "**Network Topology**\n",
        "\n",
        "4 inputs -> [4 hidden nodes] -> 3 outputs\n",
        "\n",
        "We will use a sigmoid activation function in the output layer. This is to ensure the output values are in the range of 0 and 1 and may be used as predicted probabilities. Finally, the network uses the ecient ADAM gradient descent optimization algorithm with a logarithmic loss function, which is called categorical crossentropy in Keras."
      ],
      "metadata": {
        "id": "RaFgjCn1PUWo"
      }
    },
    {
      "cell_type": "code",
      "source": [
        "# Define baseline model\n",
        "def baseline_model():\n",
        "    from tensorflow.keras.models import Sequential\n",
        "    from tensorflow.keras.layers import Dense\n",
        "    from tensorflow.keras.optimizers import Adam\n",
        "    from tensorflow.keras.losses import categorical_crossentropy\n",
        "    from tensorflow.keras.activations import relu, sigmoid\n",
        "    # Create model\n",
        "    model = Sequential()\n",
        "    model.add(Dense(4, input_dim=4, kernel_initializer='normal', activation='relu'))\n",
        "    model.add(Dense(3, kernel_initializer='normal', activation='sigmoid'))\n",
        "    # Compile model\n",
        "    model.compile(loss=categorical_crossentropy, optimizer=Adam(), metrics=['accuracy'])\n",
        "    return model"
      ],
      "metadata": {
        "id": "9HBjI0K9QqGi"
      },
      "execution_count": 15,
      "outputs": []
    },
    {
      "cell_type": "code",
      "source": [
        "estimator = KerasClassifier(build_fn=baseline_model, epochs=200, batch_size=5, verbose=0)"
      ],
      "metadata": {
        "id": "rbJgghANRNwq"
      },
      "execution_count": null,
      "outputs": []
    },
    {
      "cell_type": "markdown",
      "source": [
        "##Model Evaluation with K-fold\n",
        "We can now evaluate the neural network model on our training data. The scikit-learn library has excellent capability to evaluate models using a suite of techniques. The gold standard for evaluating machine learning models is k-fold cross validation. First we can define the model evaluation procedure. Here, we set the number of folds to be 10 (an excellent default) and to shuffle the data before partitioning it."
      ],
      "metadata": {
        "id": "d9LL_r3tRfjJ"
      }
    },
    {
      "cell_type": "code",
      "source": [
        "kfold = KFold(n_splits=10, shuffle=True, random_state=seed)\n"
      ],
      "metadata": {
        "id": "9OFKZmg-SCsS"
      },
      "execution_count": 17,
      "outputs": []
    },
    {
      "cell_type": "markdown",
      "source": [
        "Now we can evaluate our model (estimator) on our dataset (X and dummy y) using a 10-fold cross validation procedure (kfold)."
      ],
      "metadata": {
        "id": "97659xjZSPJJ"
      }
    },
    {
      "cell_type": "code",
      "source": [
        "results = cross_val_score(estimator, X, dummy_y, cv=kfold)\n",
        "print(\"Accuracy: %.2f%% (%.2f%%)\" % (results.mean()*100, results.std()*100))"
      ],
      "metadata": {
        "id": "7vc9YxeySURX"
      },
      "execution_count": null,
      "outputs": []
    },
    {
      "cell_type": "markdown",
      "source": [
        "It has generated estimated accuracy and standard deviation with a resonable performance on the Iris Dataset"
      ],
      "metadata": {
        "id": "hqZim4XWVayO"
      }
    }
  ]
}