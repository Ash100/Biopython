{
  "nbformat": 4,
  "nbformat_minor": 0,
  "metadata": {
    "colab": {
      "provenance": [],
      "authorship_tag": "ABX9TyO+SHPDA+Aslt4H3MFosDt3",
      "include_colab_link": true
    },
    "kernelspec": {
      "name": "python3",
      "display_name": "Python 3"
    },
    "language_info": {
      "name": "python"
    }
  },
  "cells": [
    {
      "cell_type": "markdown",
      "metadata": {
        "id": "view-in-github",
        "colab_type": "text"
      },
      "source": [
        "<a href=\"https://colab.research.google.com/github/Ash100/Biopython/blob/main/Building_a_Neural_Network_Model_1.ipynb\" target=\"_parent\"><img src=\"https://colab.research.google.com/assets/colab-badge.svg\" alt=\"Open In Colab\"/></a>"
      ]
    },
    {
      "cell_type": "markdown",
      "source": [
        "##Learn to Build a Deep Learning Model\n",
        "I am **Dr. Ashfaq Ahmad**, and this notebook is created for teaching and research purposes. Refering to the people working in the field of Biology, I have tried my level best to keep it as simple as possible. For Detailed instruction and understandings, please watch a video tutorial on **https://www.youtube.com/@Bioinformaticsinsights**\n",
        "\n",
        "This notebook is based on the book **Deep Learning with Python** by Jason Brownlee."
      ],
      "metadata": {
        "id": "oxiJ3KiSRU1X"
      }
    },
    {
      "cell_type": "markdown",
      "source": [
        "TensorFlow is a Python library for fast numerical computing created and released by Google. To import in your workspace, run the below script"
      ],
      "metadata": {
        "id": "j5cDYit4TWub"
      }
    },
    {
      "cell_type": "code",
      "execution_count": 3,
      "metadata": {
        "id": "Mp5jrwGJ545I"
      },
      "outputs": [],
      "source": [
        "import tensorflow as tf"
      ]
    },
    {
      "cell_type": "markdown",
      "source": [
        "Keras is a minimalist Python library for deep learning that can run on top of TensorFlow. It was developed to make developing deep learning models as fast and easy as\n",
        "possible for research and development. It runs on Python and can execute on GPUs and CPUs given the underlying frameworks. It is released under the permissive MIT\n",
        "license. Keras was developed and maintained by Fran¸cois Chollet, a Google engineer using four\n",
        "guiding principles:"
      ],
      "metadata": {
        "id": "BPb7ZbBBTkeo"
      }
    },
    {
      "cell_type": "code",
      "source": [
        "#Install Keras\n",
        "!pip install keras"
      ],
      "metadata": {
        "id": "1F-mG7RE6PcA"
      },
      "execution_count": null,
      "outputs": []
    },
    {
      "cell_type": "code",
      "source": [
        "#Import jobs\n",
        "from keras.models import Sequential\n",
        "from keras.layers import Dense\n",
        "import numpy\n",
        "# fix random seed for reproducibility\n",
        "seed = 7\n",
        "numpy.random.seed(seed)"
      ],
      "metadata": {
        "id": "w_h5NmULDz7J"
      },
      "execution_count": 15,
      "outputs": []
    },
    {
      "cell_type": "markdown",
      "source": [
        "Here, we will import a diabetes dataset from Kaggle. Kaggle is database for different datasets.\n",
        "Looking to the dataset- the output column will be Y and the other columns will X"
      ],
      "metadata": {
        "id": "5Evs-KQdUkxg"
      }
    },
    {
      "cell_type": "code",
      "source": [
        "# load pima indians dataset for Diabetes\n",
        "dataset = numpy.loadtxt(\"/content/sample_data/diabetes_1.csv\", delimiter=\",\")\n",
        "# split into input (X) and output (Y) variables\n",
        "X = dataset[:,0:8]\n",
        "Y = dataset[:,8]"
      ],
      "metadata": {
        "id": "VwwP8BazEBZ0"
      },
      "execution_count": 9,
      "outputs": []
    },
    {
      "cell_type": "markdown",
      "source": [
        "##Important Read\n",
        "You should have an overview of these four steps.\n",
        "\n",
        "**1. Define your model.** Create a Sequential model and add configured layers.\n",
        "\n",
        "**2. Compile your model.** Specify loss function and optimizers and call the *compile()* function on the model.\n",
        "\n",
        "**3. Fit your model.** Train the model on a sample of data by calling the *fit()* function on the model.\n",
        "\n",
        "**4. Make predictions.** Use the model to generate predictions on new data by calling functions such as *evaluate()* or *predict()* on the model."
      ],
      "metadata": {
        "id": "qBXfkR9WVH3i"
      }
    },
    {
      "cell_type": "markdown",
      "source": [
        "Models in Keras are defined as a sequence of layers. We will create a Sequential model below and add layers one at a time until we are happy with our network topology. **The first thing to get right is to ensure the input layer has the right number of inputs.** This can be specified when creating\n",
        "the first layer with the input dim argument and setting it to 8 for the 8 input variables."
      ],
      "metadata": {
        "id": "oEAhRCGBYV5C"
      }
    },
    {
      "cell_type": "code",
      "source": [
        "# create model\n",
        "model = Sequential()\n",
        "model.add(Dense(12, input_dim=8, activation='relu'))\n",
        "model.add(Dense(8, activation='relu'))\n",
        "model.add(Dense(1, activation='sigmoid'))"
      ],
      "metadata": {
        "id": "qvC3RCwQKNFs"
      },
      "execution_count": 17,
      "outputs": []
    },
    {
      "cell_type": "code",
      "source": [
        "# Compile model\n",
        "model.compile(loss= 'binary_crossentropy' , optimizer= 'adam' , metrics=[ 'accuracy' ])"
      ],
      "metadata": {
        "id": "up61GoFRMqiS"
      },
      "execution_count": 19,
      "outputs": []
    },
    {
      "cell_type": "code",
      "source": [
        "# Fit the model\n",
        "model.fit(X, Y, epochs=150, batch_size=20)"
      ],
      "metadata": {
        "id": "JwqSQ7BwNSsf"
      },
      "execution_count": null,
      "outputs": []
    },
    {
      "cell_type": "code",
      "source": [
        "# evaluate the model\n",
        "scores = model.evaluate(X, Y)\n",
        "print(\"%s: %.2f%%\" % (model.metrics_names[1], scores[1]*100))"
      ],
      "metadata": {
        "colab": {
          "base_uri": "https://localhost:8080/"
        },
        "id": "R_YVAgZkOA0_",
        "outputId": "765b54cb-bdf3-46a6-f779-702a4f2ed5aa"
      },
      "execution_count": 29,
      "outputs": [
        {
          "output_type": "stream",
          "name": "stdout",
          "text": [
            "24/24 [==============================] - 0s 2ms/step - loss: 0.4710 - accuracy: 0.7734\n",
            "accuracy: 77.34%\n"
          ]
        }
      ]
    },
    {
      "cell_type": "markdown",
      "source": [
        "##Evaluate Model Performace by Data Splitting\n",
        "We will rerun the model.fit() with some classification for train and test data."
      ],
      "metadata": {
        "id": "GRDhyL95P0c_"
      }
    },
    {
      "cell_type": "code",
      "source": [
        "# Fit the model\n",
        "model.fit(X, Y, validation_split=0.33, epochs=150, batch_size=10)"
      ],
      "metadata": {
        "id": "CY_iyS7sQJGj"
      },
      "execution_count": null,
      "outputs": []
    }
  ]
}